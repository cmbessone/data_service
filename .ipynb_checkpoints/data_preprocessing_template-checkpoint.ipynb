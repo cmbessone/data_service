{
 "cells": [
  {
   "cell_type": "markdown",
   "metadata": {
    "colab_type": "text",
    "id": "WOw8yMd1VlnD"
   },
   "source": [
    "# Data Preprocessing Template"
   ]
  },
  {
   "cell_type": "markdown",
   "metadata": {
    "colab_type": "text",
    "id": "NvUGC8QQV6bV"
   },
   "source": [
    "## Importing the libraries"
   ]
  },
  {
   "cell_type": "code",
   "execution_count": 1,
   "metadata": {
    "colab": {},
    "colab_type": "code",
    "id": "wfFEXZC0WS-V"
   },
   "outputs": [],
   "source": [
    "import numpy as np\n",
    "import matplotlib.pyplot as plt\n",
    "import pandas as pd"
   ]
  },
  {
   "cell_type": "markdown",
   "metadata": {
    "colab_type": "text",
    "id": "fhYaZ-ENV_c5"
   },
   "source": [
    "## Importing the dataset"
   ]
  },
  {
   "cell_type": "code",
   "execution_count": 3,
   "metadata": {
    "colab": {},
    "colab_type": "code",
    "id": "aqHTg9bxWT_u"
   },
   "outputs": [],
   "source": [
    "dataset = pd.read_csv(\"/Users/cristianbessone/inbound_data/inputGForms.csv\")"
   ]
  },
  {
   "cell_type": "code",
   "execution_count": 4,
   "metadata": {},
   "outputs": [
    {
     "name": "stdout",
     "output_type": "stream",
     "text": [
      "                  Marca temporal        Nombre de usuario        Nombre  \\\n",
      "0  2024/05/08 3:06:46 p.m. GMT-3             juan@welu.la  573067371332   \n",
      "1  2024/06/06 5:55:51 p.m. GMT-3  fabianbueno09@gmail.com  Fabian Bueno   \n",
      "\n",
      "       Whatsapp Tu país de residencia                   Género  \\\n",
      "0           NaN                   NaN                      NaN   \n",
      "1  1.134331e+09             Argentina  Masculino;Femenino;LGBT   \n",
      "\n",
      "  ¿Aceptas Canje? ¿Trabajaste alguna vez con marcas?  \\\n",
      "0             NaN                                NaN   \n",
      "1              Sí                                 Sí   \n",
      "\n",
      "  Nombre del Proyecto a Patrocinar Fecha de inicio del proyecto  ...  \\\n",
      "0                         WeluFest                   2024-05-08  ...   \n",
      "1           La Baulera Rock & Funk                   2024-09-09  ...   \n",
      "\n",
      "                                  URL Instagram  \\\n",
      "0                                           NaN   \n",
      "1  https://www.instagram.com/labaulerarockfunk/   \n",
      "\n",
      "                                  URL Facebook         URL YouTube URL Twitch  \\\n",
      "0                                          NaN                 NaN        NaN   \n",
      "1  https://www.facebook.com/LaBaulerarockfunk/  @LaBauleraRockFunk        NaN   \n",
      "\n",
      "   URL Kick URL  X (Twitter) URL  Linkedin URL otra  Red social que tengas   \\\n",
      "0       NaN              NaN           NaN                              NaN   \n",
      "1       NaN              NaN           NaN                              NaN   \n",
      "\n",
      "             Unnamed: 36 Unnamed: 37  \n",
      "0  Juan Carlos Gutiérrez  2024-08-23  \n",
      "1                    NaN         NaN  \n",
      "\n",
      "[2 rows x 38 columns]\n"
     ]
    }
   ],
   "source": [
    "print(dataset)"
   ]
  },
  {
   "cell_type": "markdown",
   "metadata": {
    "colab_type": "text",
    "id": "3abSxRqvWEIB"
   },
   "source": [
    "## Splitting the dataset into the Training set and Test set"
   ]
  },
  {
   "cell_type": "code",
   "execution_count": null,
   "metadata": {},
   "outputs": [],
   "source": [
    "pip install model_"
   ]
  },
  {
   "cell_type": "code",
   "execution_count": 8,
   "metadata": {},
   "outputs": [
    {
     "name": "stdout",
     "output_type": "stream",
     "text": [
      "affine==2.3.1\n",
      "aiofiles==22.1.0\n",
      "aiohttp==3.8.4\n",
      "aiosignal==1.3.1\n",
      "aiosqlite==0.18.0\n",
      "anyio==3.6.2\n",
      "appdirs==1.4.4\n",
      "appnope==0.1.3\n",
      "argcomplete==3.0.8\n",
      "argon2-cffi==21.3.0\n",
      "argon2-cffi-bindings==21.2.0\n",
      "arrow==1.2.3\n",
      "asgiref==3.8.1\n",
      "asttokens==2.2.1\n",
      "async-timeout==4.0.2\n",
      "attrs==22.1.0\n",
      "awscli==1.16.312\n",
      "Babel==2.12.1\n",
      "backcall==0.2.0\n",
      "beautifulsoup4==4.11.1\n",
      "bleach==6.0.0\n",
      "boto==2.49.0\n",
      "botocore==1.13.48\n",
      "cachetools==5.2.0\n",
      "certifi==2022.9.24\n",
      "cffi==1.15.1\n",
      "charset-normalizer==2.1.1\n",
      "click==8.1.3\n",
      "click-plugins==1.1.1\n",
      "click-repl==0.2.0\n",
      "cligj==0.7.2\n",
      "colorama==0.4.1\n",
      "comm==0.1.3\n",
      "contextily==1.2.0\n",
      "contourpy==1.0.6\n",
      "crcmod==1.7\n",
      "cryptography==40.0.2\n",
      "cycler==0.11.0\n",
      "debugpy==1.6.7\n",
      "decorator==5.1.1\n",
      "defusedxml==0.7.1\n",
      "Django==4.2.13\n",
      "dnspython==2.3.0\n",
      "docutils==0.15.2\n",
      "executing==1.2.0\n",
      "fancycompleter==0.9.1\n",
      "fastapi==0.87.0\n",
      "fasteners==0.18\n",
      "fastjsonschema==2.16.3\n",
      "Fiona==1.8.22\n",
      "fonttools==4.38.0\n",
      "fqdn==1.5.1\n",
      "frozenlist==1.3.3\n",
      "gcs-oauth2-boto-plugin==3.0\n",
      "geographiclib==2.0\n",
      "geopandas==0.12.1\n",
      "geopy==2.3.0\n",
      "google-apitools==0.5.32\n",
      "google-auth==2.15.0\n",
      "google-reauth==0.1.1\n",
      "gsutil==5.24\n",
      "h3==3.7.4\n",
      "httplib2==0.20.4\n",
      "idna==3.4\n",
      "ijson==3.1.4\n",
      "importlib-metadata==6.3.0\n",
      "ipykernel==6.22.0\n",
      "ipython==8.12.0\n",
      "ipython-genutils==0.2.0\n",
      "isoduration==20.11.0\n",
      "jedi==0.18.2\n",
      "Jinja2==3.1.2\n",
      "jmespath==0.10.0\n",
      "joblib==1.2.0\n",
      "json5==0.9.11\n",
      "jsonpointer==2.3\n",
      "jsonschema==4.17.3\n",
      "jupyter-events==0.6.3\n",
      "jupyter-ydoc==0.2.3\n",
      "jupyter_client==8.1.0\n",
      "jupyter_core==5.3.0\n",
      "jupyter_server==2.5.0\n",
      "jupyter_server_fileid==0.9.0\n",
      "jupyter_server_terminals==0.4.4\n",
      "jupyter_server_ydoc==0.8.0\n",
      "jupyterlab==3.6.3\n",
      "jupyterlab-pygments==0.2.2\n",
      "jupyterlab_server==2.22.0\n",
      "kaggle==1.5.13\n",
      "kiwisolver==1.4.4\n",
      "kubernetes==25.3.0\n",
      "llvmlite==0.39.1\n",
      "MarkupSafe==2.1.1\n",
      "matplotlib==3.6.2\n",
      "matplotlib-inline==0.1.6\n",
      "mercantile==1.2.1\n",
      "mistune==2.0.5\n",
      "monotonic==1.6\n",
      "multidict==6.0.4\n",
      "munch==2.5.0\n",
      "mypy==0.991\n",
      "mypy-extensions==0.4.3\n",
      "nbclassic==0.5.5\n",
      "nbclient==0.7.3\n",
      "nbconvert==7.3.1\n",
      "nbformat==5.8.0\n",
      "nest-asyncio==1.5.6\n",
      "notebook==6.5.4\n",
      "notebook_shim==0.2.2\n",
      "numba==0.56.4\n",
      "numpy==1.26.4\n",
      "oauth2client==4.1.3\n",
      "oauthlib==3.2.2\n",
      "openai==0.27.4\n",
      "packaging==21.3\n",
      "pandas==1.5.1\n",
      "pandocfilters==1.5.0\n",
      "parso==0.8.3\n",
      "pdbpp==0.10.3\n",
      "pexpect==4.8.0\n",
      "pickleshare==0.7.5\n",
      "Pillow==9.3.0\n",
      "platformdirs==3.2.0\n",
      "prometheus-client==0.16.0\n",
      "prompt-toolkit==3.0.36\n",
      "psutil==5.9.4\n",
      "ptyprocess==0.7.0\n",
      "pure-eval==0.2.2\n",
      "pyasn1==0.4.8\n",
      "pyasn1-modules==0.2.8\n",
      "pycparser==2.21\n",
      "pycryptodome==3.16.0\n",
      "pydantic==1.10.2\n",
      "Pygments==2.14.0\n",
      "pymongo==4.3.3\n",
      "pyOpenSSL==23.1.1\n",
      "pyparsing==3.0.9\n",
      "pyproj==3.4.0\n",
      "pyrepl==0.9.0\n",
      "pyrsistent==0.19.3\n",
      "python-dateutil==2.8.2\n",
      "python-json-logger==2.0.7\n",
      "python-slugify==8.0.1\n",
      "pytz==2022.6\n",
      "pyu2f==0.1.5\n",
      "PyYAML==6.0\n",
      "pyzmq==25.0.2\n",
      "rasterio==1.3.4\n",
      "requests==2.28.1\n",
      "requests-oauthlib==1.3.1\n",
      "retry-decorator==1.1.1\n",
      "rfc3339-validator==0.1.4\n",
      "rfc3986-validator==0.1.1\n",
      "rsa==4.9\n",
      "s3transfer==0.2.1\n",
      "Send2Trash==1.8.0\n",
      "Shapely==1.8.5.post1\n",
      "six==1.16.0\n",
      "sniffio==1.3.0\n",
      "snuggs==1.4.7\n",
      "soupsieve==2.3.2.post1\n",
      "sqlparse==0.5.0\n",
      "stack-data==0.6.2\n",
      "starlette==0.21.0\n",
      "terminado==0.17.1\n",
      "text-unidecode==1.3\n",
      "timezonefinder==6.1.6\n",
      "tinycss2==1.2.1\n",
      "tomli==2.0.1\n",
      "tornado==6.2\n",
      "tqdm==4.65.0\n",
      "traitlets==5.9.0\n",
      "tutor-android==15.0.0\n",
      "tutor-discovery==15.0.0\n",
      "tutor-ecommerce==15.0.2\n",
      "tutor-forum==15.0.0\n",
      "tutor-license==15.0.0\n",
      "tutor-mfe==15.0.4\n",
      "tutor-minio==15.0.0\n",
      "tutor-notes==15.0.0\n",
      "tutor-openedx==12.2.0\n",
      "tutor-webui==15.0.0\n",
      "tutor-xqueue==15.0.0\n",
      "typing_extensions==4.12.2\n",
      "uri-template==1.2.0\n",
      "urllib3==1.25.11\n",
      "wcwidth==0.2.5\n",
      "webcolors==1.13\n",
      "webencodings==0.5.1\n",
      "websocket-client==1.4.2\n",
      "wmctrl==0.4\n",
      "xyzservices==2022.9.0\n",
      "y-py==0.5.9\n",
      "yarl==1.8.2\n",
      "ypy-websocket==0.8.2\n",
      "zipp==3.15.0\n",
      "Note: you may need to restart the kernel to use updated packages.\n"
     ]
    }
   ],
   "source": [
    "pip freeze\n"
   ]
  },
  {
   "cell_type": "code",
   "execution_count": 10,
   "metadata": {},
   "outputs": [
    {
     "name": "stdout",
     "output_type": "stream",
     "text": [
      "\u001b[33mDEPRECATION: Configuring installation scheme with distutils config files is deprecated and will no longer work in the near future. If you are using a Homebrew or Linuxbrew Python, please see discussion at https://github.com/Homebrew/homebrew-core/issues/76621\u001b[0m\u001b[33m\n",
      "\u001b[0mCollecting scikit-learn\n",
      "  Downloading scikit_learn-1.5.0-cp39-cp39-macosx_10_9_x86_64.whl (12.1 MB)\n",
      "\u001b[2K     \u001b[90m━━━━━━━━━━━━━━━━━━━━━━━━━━━━━━━━━━━━━━━━\u001b[0m \u001b[32m12.1/12.1 MB\u001b[0m \u001b[31m3.4 MB/s\u001b[0m eta \u001b[36m0:00:00\u001b[0m00:01\u001b[0m00:01\u001b[0m\n",
      "\u001b[?25hCollecting scipy>=1.6.0\n",
      "  Downloading scipy-1.13.1-cp39-cp39-macosx_10_9_x86_64.whl (39.4 MB)\n",
      "\u001b[2K     \u001b[90m━━━━━━━━━━━━━━━━━━━━━━━━━━━━━━━━━━━━━━━━\u001b[0m \u001b[32m39.4/39.4 MB\u001b[0m \u001b[31m10.7 MB/s\u001b[0m eta \u001b[36m0:00:00\u001b[0m00:01\u001b[0m00:01\u001b[0m\n",
      "\u001b[?25hRequirement already satisfied: joblib>=1.2.0 in /usr/local/lib/python3.9/site-packages (from scikit-learn) (1.2.0)\n",
      "Collecting threadpoolctl>=3.1.0\n",
      "  Using cached threadpoolctl-3.5.0-py3-none-any.whl (18 kB)\n",
      "Requirement already satisfied: numpy>=1.19.5 in /usr/local/lib/python3.9/site-packages (from scikit-learn) (1.26.4)\n",
      "Installing collected packages: threadpoolctl, scipy, scikit-learn\n",
      "\u001b[33m  DEPRECATION: Configuring installation scheme with distutils config files is deprecated and will no longer work in the near future. If you are using a Homebrew or Linuxbrew Python, please see discussion at https://github.com/Homebrew/homebrew-core/issues/76621\u001b[0m\u001b[33m\n",
      "\u001b[0m\u001b[33m  DEPRECATION: Configuring installation scheme with distutils config files is deprecated and will no longer work in the near future. If you are using a Homebrew or Linuxbrew Python, please see discussion at https://github.com/Homebrew/homebrew-core/issues/76621\u001b[0m\u001b[33m\n",
      "\u001b[0m\u001b[33m  DEPRECATION: Configuring installation scheme with distutils config files is deprecated and will no longer work in the near future. If you are using a Homebrew or Linuxbrew Python, please see discussion at https://github.com/Homebrew/homebrew-core/issues/76621\u001b[0m\u001b[33m\n",
      "\u001b[0m\u001b[33mDEPRECATION: Configuring installation scheme with distutils config files is deprecated and will no longer work in the near future. If you are using a Homebrew or Linuxbrew Python, please see discussion at https://github.com/Homebrew/homebrew-core/issues/76621\u001b[0m\u001b[33m\n",
      "\u001b[0mSuccessfully installed scikit-learn-1.5.0 scipy-1.13.1 threadpoolctl-3.5.0\n",
      "\n",
      "\u001b[1m[\u001b[0m\u001b[34;49mnotice\u001b[0m\u001b[1;39;49m]\u001b[0m\u001b[39;49m A new release of pip available: \u001b[0m\u001b[31;49m22.3.1\u001b[0m\u001b[39;49m -> \u001b[0m\u001b[32;49m24.0\u001b[0m\n",
      "\u001b[1m[\u001b[0m\u001b[34;49mnotice\u001b[0m\u001b[1;39;49m]\u001b[0m\u001b[39;49m To update, run: \u001b[0m\u001b[32;49mpython3.9 -m pip install --upgrade pip\u001b[0m\n",
      "Note: you may need to restart the kernel to use updated packages.\n"
     ]
    }
   ],
   "source": [
    "pip install scikit-learn\n"
   ]
  },
  {
   "cell_type": "code",
   "execution_count": 11,
   "metadata": {
    "colab": {},
    "colab_type": "code",
    "id": "hm48sif-WWsh"
   },
   "outputs": [
    {
     "ename": "SyntaxError",
     "evalue": "invalid syntax (1925048707.py, line 2)",
     "output_type": "error",
     "traceback": [
      "\u001b[0;36m  Cell \u001b[0;32mIn[11], line 2\u001b[0;36m\u001b[0m\n\u001b[0;31m    from scikit-learn.model_selection import train_test_split\u001b[0m\n\u001b[0m               ^\u001b[0m\n\u001b[0;31mSyntaxError\u001b[0m\u001b[0;31m:\u001b[0m invalid syntax\n"
     ]
    }
   ],
   "source": [
    "import pandas as pd\n",
    "from scikit_learn.model_selection import train_test_split\n",
    "from scikit-learn.preprocessing import StandardScaler\n",
    "from scikit-learn.linear_model import LogisticRegression\n",
    "from scikit-learn.metrics import accuracy_score, confusion_matrix, classification_report\n",
    "\n",
    "# Cargar los datos\n",
    "combined_df = dataset\n",
    "\n",
    "# Asumamos que 'satisfaction' es nuestra variable objetivo\n",
    "#X = combined_df.drop(columns=['satisfaction'])\n",
    "#y = combined_df['satisfaction']\n",
    "\n",
    "# Dividir el dataset en conjunto de entrenamiento y prueba\n",
    "X_train, X_test, y_train, y_test = train_test_split(X, y, test_size=0.2, random_state=42)\n",
    "\n",
    "# Normalizar los datos\n",
    "scaler = StandardScaler()\n",
    "X_train = scaler.fit_transform(X_train)\n",
    "X_test = scaler.transform(X_test)\n",
    "\n",
    "# Entrenar el modelo de Regresión Logística\n",
    "model = LogisticRegression()\n",
    "model.fit(X_train, y_train)\n",
    "\n",
    "# Hacer predicciones\n",
    "y_pred = model.predict(X_test)\n",
    "\n",
    "# Evaluar el modelo\n",
    "accuracy = accuracy_score(y_test, y_pred)\n",
    "conf_matrix = confusion_matrix(y_test, y_pred)\n",
    "class_report = classification_report(y_test, y_pred)\n",
    "\n",
    "print(f'Accuracy: {accuracy}')\n",
    "print(f'Confusion Matrix:\\n{conf_matrix}')\n",
    "print(f'Classification Report:\\n{class_report}')\n"
   ]
  },
  {
   "cell_type": "code",
   "execution_count": null,
   "metadata": {},
   "outputs": [],
   "source": []
  }
 ],
 "metadata": {
  "colab": {
   "authorship_tag": "ABX9TyOD2/gZgY69JdiiGJVNfu7s",
   "collapsed_sections": [],
   "name": "data_preprocessing_template.ipynb",
   "provenance": [],
   "toc_visible": true
  },
  "kernelspec": {
   "display_name": "Python 3 (ipykernel)",
   "language": "python",
   "name": "python3"
  },
  "language_info": {
   "codemirror_mode": {
    "name": "ipython",
    "version": 3
   },
   "file_extension": ".py",
   "mimetype": "text/x-python",
   "name": "python",
   "nbconvert_exporter": "python",
   "pygments_lexer": "ipython3",
   "version": "3.9.17"
  }
 },
 "nbformat": 4,
 "nbformat_minor": 1
}
